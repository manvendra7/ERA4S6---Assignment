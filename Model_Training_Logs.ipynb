{
  "cells": [
    {
      "cell_type": "code",
      "execution_count": 1,
      "metadata": {
        "id": "6PlbomWY3RSq"
      },
      "outputs": [],
      "source": [
        "from tqdm import tqdm\n",
        "import torch.nn.functional as F\n",
        "import torch\n",
        "import torch.optim as optim\n",
        "from torchsummary import summary\n",
        "import torch.nn as nn\n",
        "from torchvision import datasets, transforms\n",
        "from torch.optim.lr_scheduler import StepLR\n",
        "from torch.optim.lr_scheduler import OneCycleLR\n",
        "import model_1, model_2, model_3"
      ]
    },
    {
      "cell_type": "code",
      "execution_count": 2,
      "metadata": {
        "id": "pySEnL6lYb8v"
      },
      "outputs": [],
      "source": [
        "SEED = 1\n",
        "cuda = torch.cuda.is_available()\n",
        "torch.manual_seed(SEED)\n",
        "if cuda:\n",
        "    torch.cuda.manual_seed(SEED)"
      ]
    },
    {
      "cell_type": "code",
      "source": [
        "def data_loader_preprocessing():\n",
        "# Train Phase transformations\n",
        "    train_transforms = transforms.Compose([\n",
        "                                       transforms.ToTensor(),\n",
        "                                       transforms.Normalize((0.1307,), (0.3081,))\n",
        "                                       ])\n",
        "\n",
        "    # Test Phase transformations\n",
        "    test_transforms = transforms.Compose([\n",
        "                                        transforms.ToTensor(),\n",
        "                                        transforms.Normalize((0.1307,), (0.3081,))\n",
        "                                        ])\n",
        "\n",
        "\n",
        "    train = datasets.MNIST('./data', train=True, download=True, transform=train_transforms)\n",
        "    test = datasets.MNIST('./data', train=False, download=True, transform=test_transforms)\n",
        "\n",
        "\n",
        "\n",
        "    # dataloader arguments - something you'll fetch these from cmdprmt\n",
        "    dataloader_args = dict(shuffle=True, batch_size=32, num_workers=4, pin_memory=True) if cuda else dict(shuffle=True, batch_size=64)\n",
        "\n",
        "    # train dataloader\n",
        "    train_loader = torch.utils.data.DataLoader(train, **dataloader_args)\n",
        "\n",
        "    # test dataloader\n",
        "    test_loader = torch.utils.data.DataLoader(test, **dataloader_args)\n",
        "\n",
        "    return train_loader, test_loader"
      ],
      "metadata": {
        "id": "AE9qcZv_vFtp"
      },
      "execution_count": 3,
      "outputs": []
    },
    {
      "cell_type": "code",
      "execution_count": 4,
      "metadata": {
        "id": "6RKe5EyvZUAS",
        "colab": {
          "base_uri": "https://localhost:8080/"
        },
        "outputId": "e5d6b0e3-6fab-4577-ab6f-805d8794956c"
      },
      "outputs": [
        {
          "output_type": "stream",
          "name": "stderr",
          "text": [
            "100%|██████████| 9.91M/9.91M [00:00<00:00, 19.0MB/s]\n",
            "100%|██████████| 28.9k/28.9k [00:00<00:00, 492kB/s]\n",
            "100%|██████████| 1.65M/1.65M [00:00<00:00, 4.65MB/s]\n",
            "100%|██████████| 4.54k/4.54k [00:00<00:00, 10.5MB/s]\n",
            "/usr/local/lib/python3.12/dist-packages/torch/utils/data/dataloader.py:627: UserWarning: This DataLoader will create 4 worker processes in total. Our suggested max number of worker in current system is 2, which is smaller than what this DataLoader is going to create. Please be aware that excessive worker creation might get DataLoader running slow or even freeze, lower the worker number to avoid potential slowness/freeze if necessary.\n",
            "  warnings.warn(\n"
          ]
        }
      ],
      "source": [
        "train_losses = []\n",
        "test_losses = []\n",
        "train_acc = []\n",
        "test_acc = []\n",
        "\n",
        "def train(model, device, train_loader, optimizer, epoch):\n",
        "  model.train()\n",
        "  pbar = tqdm(train_loader)\n",
        "  correct = 0\n",
        "  processed = 0\n",
        "  for batch_idx, (data, target) in enumerate(pbar):\n",
        "\n",
        "    # get samples\n",
        "    data, target = data.to(device), target.to(device)\n",
        "\n",
        "    # Init\n",
        "    optimizer.zero_grad()\n",
        "\n",
        "    # Predict\n",
        "    y_pred = model(data)\n",
        "\n",
        "    # Calculate loss\n",
        "    loss = F.nll_loss(y_pred, target)\n",
        "    train_losses.append(loss)\n",
        "\n",
        "    # Backpropagation\n",
        "    loss.backward()\n",
        "    optimizer.step()\n",
        "\n",
        "    # Update pbar-tqdm\n",
        "\n",
        "    pred = y_pred.argmax(dim=1, keepdim=True)  # get the index of the max log-probability\n",
        "    correct += pred.eq(target.view_as(pred)).sum().item()\n",
        "    processed += len(data)\n",
        "\n",
        "    pbar.set_description(desc= f'Loss={loss.item()} Batch_id={batch_idx} Accuracy={100*correct/processed:0.2f}')\n",
        "    train_acc.append(100*correct/processed)\n",
        "\n",
        "def test(model, device, test_loader):\n",
        "    model.eval()\n",
        "    test_loss = 0\n",
        "    correct = 0\n",
        "    with torch.no_grad():\n",
        "        for data, target in test_loader:\n",
        "            data, target = data.to(device), target.to(device)\n",
        "            output = model(data)\n",
        "            test_loss += F.nll_loss(output, target, reduction='sum').item()  # sum up batch loss\n",
        "            pred = output.argmax(dim=1, keepdim=True)  # get the index of the max log-probability\n",
        "            correct += pred.eq(target.view_as(pred)).sum().item()\n",
        "\n",
        "    test_loss /= len(test_loader.dataset)\n",
        "    test_losses.append(test_loss)\n",
        "\n",
        "    print('\\nTest set: Average loss: {:.4f}, Accuracy: {}/{} ({:.2f}%)\\n'.format(\n",
        "        test_loss, correct, len(test_loader.dataset),\n",
        "        100. * correct / len(test_loader.dataset)))\n",
        "\n",
        "    test_acc.append(100. * correct / len(test_loader.dataset))\n",
        "\n",
        "\n",
        "train_loader, test_loader = data_loader_preprocessing()\n",
        "use_cuda = torch.cuda.is_available()\n",
        "device = torch.device(\"cuda\" if use_cuda else \"cpu\")"
      ]
    },
    {
      "cell_type": "markdown",
      "source": [
        "### Model 1 Training and Logs"
      ],
      "metadata": {
        "id": "pEVyxrRCDnoJ"
      }
    },
    {
      "cell_type": "code",
      "execution_count": null,
      "metadata": {
        "id": "SGOUAGHuPWZi",
        "colab": {
          "base_uri": "https://localhost:8080/"
        },
        "outputId": "ed790843-aee5-475b-8d86-d258010a5653"
      },
      "outputs": [
        {
          "output_type": "stream",
          "name": "stdout",
          "text": [
            "----------------------------------------------------------------\n",
            "        Layer (type)               Output Shape         Param #\n",
            "================================================================\n",
            "            Conv2d-1            [-1, 8, 28, 28]              72\n",
            "              ReLU-2            [-1, 8, 28, 28]               0\n",
            "            Conv2d-3           [-1, 12, 28, 28]             864\n",
            "              ReLU-4           [-1, 12, 28, 28]               0\n",
            "         MaxPool2d-5           [-1, 12, 14, 14]               0\n",
            "            Conv2d-6           [-1, 16, 14, 14]           1,728\n",
            "              ReLU-7           [-1, 16, 14, 14]               0\n",
            "            Conv2d-8           [-1, 16, 12, 12]           2,304\n",
            "              ReLU-9           [-1, 16, 12, 12]               0\n",
            "        MaxPool2d-10             [-1, 16, 6, 6]               0\n",
            "           Conv2d-11             [-1, 16, 4, 4]           2,304\n",
            "             ReLU-12             [-1, 16, 4, 4]               0\n",
            "           Conv2d-13             [-1, 16, 2, 2]           2,304\n",
            "             ReLU-14             [-1, 16, 2, 2]               0\n",
            "AdaptiveAvgPool2d-15             [-1, 16, 1, 1]               0\n",
            "           Linear-16                   [-1, 10]             170\n",
            "================================================================\n",
            "Total params: 9,746\n",
            "Trainable params: 9,746\n",
            "Non-trainable params: 0\n",
            "----------------------------------------------------------------\n",
            "Input size (MB): 0.00\n",
            "Forward/backward pass size (MB): 0.35\n",
            "Params size (MB): 0.04\n",
            "Estimated Total Size (MB): 0.39\n",
            "----------------------------------------------------------------\n",
            "None\n",
            "Training the model...\n",
            "--------------------\n",
            "EPOCH: 0\n"
          ]
        },
        {
          "output_type": "stream",
          "name": "stderr",
          "text": [
            "Loss=0.14111807942390442 Batch_id=1874 Accuracy=82.53: 100%|██████████| 1875/1875 [00:21<00:00, 86.67it/s]\n"
          ]
        },
        {
          "output_type": "stream",
          "name": "stdout",
          "text": [
            "\n",
            "Test set: Average loss: 0.1046, Accuracy: 9688/10000 (96.88%)\n",
            "\n",
            "EPOCH: 1\n"
          ]
        },
        {
          "output_type": "stream",
          "name": "stderr",
          "text": [
            "Loss=0.0983821228146553 Batch_id=1874 Accuracy=97.71: 100%|██████████| 1875/1875 [00:20<00:00, 91.15it/s]\n"
          ]
        },
        {
          "output_type": "stream",
          "name": "stdout",
          "text": [
            "\n",
            "Test set: Average loss: 0.0568, Accuracy: 9818/10000 (98.18%)\n",
            "\n",
            "EPOCH: 2\n"
          ]
        },
        {
          "output_type": "stream",
          "name": "stderr",
          "text": [
            "Loss=0.004761046729981899 Batch_id=1874 Accuracy=98.34: 100%|██████████| 1875/1875 [00:22<00:00, 84.11it/s]\n"
          ]
        },
        {
          "output_type": "stream",
          "name": "stdout",
          "text": [
            "\n",
            "Test set: Average loss: 0.0401, Accuracy: 9873/10000 (98.73%)\n",
            "\n",
            "EPOCH: 3\n"
          ]
        },
        {
          "output_type": "stream",
          "name": "stderr",
          "text": [
            "Loss=0.005260005127638578 Batch_id=1874 Accuracy=98.59: 100%|██████████| 1875/1875 [00:21<00:00, 85.96it/s] \n"
          ]
        },
        {
          "output_type": "stream",
          "name": "stdout",
          "text": [
            "\n",
            "Test set: Average loss: 0.0439, Accuracy: 9865/10000 (98.65%)\n",
            "\n",
            "EPOCH: 4\n"
          ]
        },
        {
          "output_type": "stream",
          "name": "stderr",
          "text": [
            "Loss=0.010513199493288994 Batch_id=1874 Accuracy=98.77: 100%|██████████| 1875/1875 [00:22<00:00, 85.16it/s] \n"
          ]
        },
        {
          "output_type": "stream",
          "name": "stdout",
          "text": [
            "\n",
            "Test set: Average loss: 0.0500, Accuracy: 9846/10000 (98.46%)\n",
            "\n",
            "EPOCH: 5\n"
          ]
        },
        {
          "output_type": "stream",
          "name": "stderr",
          "text": [
            "Loss=0.00804966315627098 Batch_id=1874 Accuracy=98.92: 100%|██████████| 1875/1875 [00:21<00:00, 85.94it/s]\n"
          ]
        },
        {
          "output_type": "stream",
          "name": "stdout",
          "text": [
            "\n",
            "Test set: Average loss: 0.0327, Accuracy: 9903/10000 (99.03%)\n",
            "\n",
            "EPOCH: 6\n"
          ]
        },
        {
          "output_type": "stream",
          "name": "stderr",
          "text": [
            "Loss=0.009162095375359058 Batch_id=1874 Accuracy=98.96: 100%|██████████| 1875/1875 [00:21<00:00, 88.76it/s]\n"
          ]
        },
        {
          "output_type": "stream",
          "name": "stdout",
          "text": [
            "\n",
            "Test set: Average loss: 0.0434, Accuracy: 9872/10000 (98.72%)\n",
            "\n",
            "EPOCH: 7\n"
          ]
        },
        {
          "output_type": "stream",
          "name": "stderr",
          "text": [
            "Loss=0.01664828136563301 Batch_id=1874 Accuracy=99.05: 100%|██████████| 1875/1875 [00:20<00:00, 89.37it/s]\n"
          ]
        },
        {
          "output_type": "stream",
          "name": "stdout",
          "text": [
            "\n",
            "Test set: Average loss: 0.0295, Accuracy: 9902/10000 (99.02%)\n",
            "\n",
            "EPOCH: 8\n"
          ]
        },
        {
          "output_type": "stream",
          "name": "stderr",
          "text": [
            "Loss=0.3410673141479492 Batch_id=1874 Accuracy=99.15: 100%|██████████| 1875/1875 [00:20<00:00, 90.21it/s] \n"
          ]
        },
        {
          "output_type": "stream",
          "name": "stdout",
          "text": [
            "\n",
            "Test set: Average loss: 0.0438, Accuracy: 9867/10000 (98.67%)\n",
            "\n",
            "EPOCH: 9\n"
          ]
        },
        {
          "output_type": "stream",
          "name": "stderr",
          "text": [
            "Loss=0.0017661042511463165 Batch_id=1874 Accuracy=99.21: 100%|██████████| 1875/1875 [00:21<00:00, 89.04it/s]\n"
          ]
        },
        {
          "output_type": "stream",
          "name": "stdout",
          "text": [
            "\n",
            "Test set: Average loss: 0.0326, Accuracy: 9894/10000 (98.94%)\n",
            "\n",
            "EPOCH: 10\n"
          ]
        },
        {
          "output_type": "stream",
          "name": "stderr",
          "text": [
            "Loss=0.0008599875727668405 Batch_id=1874 Accuracy=99.24: 100%|██████████| 1875/1875 [00:21<00:00, 87.76it/s]\n"
          ]
        },
        {
          "output_type": "stream",
          "name": "stdout",
          "text": [
            "\n",
            "Test set: Average loss: 0.0264, Accuracy: 9925/10000 (99.25%)\n",
            "\n",
            "EPOCH: 11\n"
          ]
        },
        {
          "output_type": "stream",
          "name": "stderr",
          "text": [
            "Loss=8.969243936007842e-05 Batch_id=1874 Accuracy=99.34: 100%|██████████| 1875/1875 [00:21<00:00, 88.08it/s] \n"
          ]
        },
        {
          "output_type": "stream",
          "name": "stdout",
          "text": [
            "\n",
            "Test set: Average loss: 0.0365, Accuracy: 9899/10000 (98.99%)\n",
            "\n",
            "EPOCH: 12\n"
          ]
        },
        {
          "output_type": "stream",
          "name": "stderr",
          "text": [
            "Loss=0.04132688045501709 Batch_id=1874 Accuracy=99.27: 100%|██████████| 1875/1875 [00:20<00:00, 89.35it/s]\n"
          ]
        },
        {
          "output_type": "stream",
          "name": "stdout",
          "text": [
            "\n",
            "Test set: Average loss: 0.0423, Accuracy: 9874/10000 (98.74%)\n",
            "\n",
            "EPOCH: 13\n"
          ]
        },
        {
          "output_type": "stream",
          "name": "stderr",
          "text": [
            "Loss=1.967899879673496e-05 Batch_id=1874 Accuracy=99.36: 100%|██████████| 1875/1875 [00:20<00:00, 90.11it/s]\n"
          ]
        },
        {
          "output_type": "stream",
          "name": "stdout",
          "text": [
            "\n",
            "Test set: Average loss: 0.0344, Accuracy: 9912/10000 (99.12%)\n",
            "\n",
            "EPOCH: 14\n"
          ]
        },
        {
          "output_type": "stream",
          "name": "stderr",
          "text": [
            "Loss=2.8345180908218026e-05 Batch_id=1874 Accuracy=99.37: 100%|██████████| 1875/1875 [00:21<00:00, 88.75it/s]\n"
          ]
        },
        {
          "output_type": "stream",
          "name": "stdout",
          "text": [
            "\n",
            "Test set: Average loss: 0.0332, Accuracy: 9914/10000 (99.14%)\n",
            "\n"
          ]
        }
      ],
      "source": [
        "model =  model_1.Net().to(device)\n",
        "optimizer = optim.SGD(model.parameters(), lr=0.01, momentum=0.9)\n",
        "print(summary(model, input_size=(1, 28, 28)))\n",
        "print('Training the model...')\n",
        "print('-'*20)\n",
        "EPOCHS = 15\n",
        "for epoch in range(EPOCHS):\n",
        "    print(\"EPOCH:\", epoch)\n",
        "    train(model, device, train_loader, optimizer, epoch)\n",
        "    test(model, device, test_loader)"
      ]
    },
    {
      "cell_type": "markdown",
      "source": [
        "## Model - 2 Training and Logs"
      ],
      "metadata": {
        "id": "uMwbXv8uF0LM"
      }
    },
    {
      "cell_type": "code",
      "source": [
        "model =  model_2.Net().to(device)\n",
        "optimizer = optim.SGD(model.parameters(), lr=0.01, momentum=0.9)\n",
        "print(summary(model, input_size=(1, 28, 28)))\n",
        "print('Training the model...')\n",
        "print('-'*20)\n",
        "EPOCHS = 15\n",
        "for epoch in range(EPOCHS):\n",
        "    print(\"EPOCH:\", epoch)\n",
        "    train(model, device, train_loader, optimizer, epoch)\n",
        "    test(model, device, test_loader)"
      ],
      "metadata": {
        "colab": {
          "base_uri": "https://localhost:8080/"
        },
        "id": "7Ph_n6xsD5lD",
        "outputId": "166ab912-defd-4ad9-a756-326d890314f9"
      },
      "execution_count": null,
      "outputs": [
        {
          "output_type": "stream",
          "name": "stdout",
          "text": [
            "----------------------------------------------------------------\n",
            "        Layer (type)               Output Shape         Param #\n",
            "================================================================\n",
            "            Conv2d-1            [-1, 8, 28, 28]              72\n",
            "              ReLU-2            [-1, 8, 28, 28]               0\n",
            "       BatchNorm2d-3            [-1, 8, 28, 28]              16\n",
            "           Dropout-4            [-1, 8, 28, 28]               0\n",
            "            Conv2d-5           [-1, 12, 28, 28]             864\n",
            "              ReLU-6           [-1, 12, 28, 28]               0\n",
            "       BatchNorm2d-7           [-1, 12, 28, 28]              24\n",
            "           Dropout-8           [-1, 12, 28, 28]               0\n",
            "         MaxPool2d-9           [-1, 12, 14, 14]               0\n",
            "           Conv2d-10           [-1, 16, 14, 14]           1,728\n",
            "             ReLU-11           [-1, 16, 14, 14]               0\n",
            "      BatchNorm2d-12           [-1, 16, 14, 14]              32\n",
            "          Dropout-13           [-1, 16, 14, 14]               0\n",
            "           Conv2d-14           [-1, 16, 12, 12]           2,304\n",
            "             ReLU-15           [-1, 16, 12, 12]               0\n",
            "      BatchNorm2d-16           [-1, 16, 12, 12]              32\n",
            "          Dropout-17           [-1, 16, 12, 12]               0\n",
            "        MaxPool2d-18             [-1, 16, 6, 6]               0\n",
            "           Conv2d-19             [-1, 16, 4, 4]           2,304\n",
            "             ReLU-20             [-1, 16, 4, 4]               0\n",
            "      BatchNorm2d-21             [-1, 16, 4, 4]              32\n",
            "          Dropout-22             [-1, 16, 4, 4]               0\n",
            "           Conv2d-23             [-1, 16, 2, 2]           2,304\n",
            "             ReLU-24             [-1, 16, 2, 2]               0\n",
            "      BatchNorm2d-25             [-1, 16, 2, 2]              32\n",
            "          Dropout-26             [-1, 16, 2, 2]               0\n",
            "AdaptiveAvgPool2d-27             [-1, 16, 1, 1]               0\n",
            "           Linear-28                   [-1, 10]             170\n",
            "================================================================\n",
            "Total params: 9,914\n",
            "Trainable params: 9,914\n",
            "Non-trainable params: 0\n",
            "----------------------------------------------------------------\n",
            "Input size (MB): 0.00\n",
            "Forward/backward pass size (MB): 0.68\n",
            "Params size (MB): 0.04\n",
            "Estimated Total Size (MB): 0.72\n",
            "----------------------------------------------------------------\n",
            "None\n",
            "Training the model...\n",
            "--------------------\n",
            "EPOCH: 0\n"
          ]
        },
        {
          "output_type": "stream",
          "name": "stderr",
          "text": [
            "Loss=0.14013588428497314 Batch_id=1874 Accuracy=95.36: 100%|██████████| 1875/1875 [00:24<00:00, 77.27it/s]\n"
          ]
        },
        {
          "output_type": "stream",
          "name": "stdout",
          "text": [
            "\n",
            "Test set: Average loss: 0.0423, Accuracy: 9869/10000 (98.69%)\n",
            "\n",
            "EPOCH: 1\n"
          ]
        },
        {
          "output_type": "stream",
          "name": "stderr",
          "text": [
            "Loss=0.006970836315304041 Batch_id=1874 Accuracy=98.20: 100%|██████████| 1875/1875 [00:23<00:00, 79.09it/s]\n"
          ]
        },
        {
          "output_type": "stream",
          "name": "stdout",
          "text": [
            "\n",
            "Test set: Average loss: 0.0321, Accuracy: 9895/10000 (98.95%)\n",
            "\n",
            "EPOCH: 2\n"
          ]
        },
        {
          "output_type": "stream",
          "name": "stderr",
          "text": [
            "Loss=0.1753063052892685 Batch_id=1874 Accuracy=98.39: 100%|██████████| 1875/1875 [00:24<00:00, 75.01it/s]\n"
          ]
        },
        {
          "output_type": "stream",
          "name": "stdout",
          "text": [
            "\n",
            "Test set: Average loss: 0.0343, Accuracy: 9902/10000 (99.02%)\n",
            "\n",
            "EPOCH: 3\n"
          ]
        },
        {
          "output_type": "stream",
          "name": "stderr",
          "text": [
            "Loss=0.06548615545034409 Batch_id=1874 Accuracy=98.53: 100%|██████████| 1875/1875 [00:25<00:00, 74.48it/s]\n"
          ]
        },
        {
          "output_type": "stream",
          "name": "stdout",
          "text": [
            "\n",
            "Test set: Average loss: 0.0257, Accuracy: 9928/10000 (99.28%)\n",
            "\n",
            "EPOCH: 4\n"
          ]
        },
        {
          "output_type": "stream",
          "name": "stderr",
          "text": [
            "Loss=0.0019103474915027618 Batch_id=1874 Accuracy=98.72: 100%|██████████| 1875/1875 [00:25<00:00, 74.21it/s]\n"
          ]
        },
        {
          "output_type": "stream",
          "name": "stdout",
          "text": [
            "\n",
            "Test set: Average loss: 0.0234, Accuracy: 9928/10000 (99.28%)\n",
            "\n",
            "EPOCH: 5\n"
          ]
        },
        {
          "output_type": "stream",
          "name": "stderr",
          "text": [
            "Loss=0.07474738359451294 Batch_id=1874 Accuracy=98.76: 100%|██████████| 1875/1875 [00:24<00:00, 75.72it/s]\n"
          ]
        },
        {
          "output_type": "stream",
          "name": "stdout",
          "text": [
            "\n",
            "Test set: Average loss: 0.0329, Accuracy: 9898/10000 (98.98%)\n",
            "\n",
            "EPOCH: 6\n"
          ]
        },
        {
          "output_type": "stream",
          "name": "stderr",
          "text": [
            "Loss=0.005956639535725117 Batch_id=1874 Accuracy=98.87: 100%|██████████| 1875/1875 [00:25<00:00, 74.08it/s]\n"
          ]
        },
        {
          "output_type": "stream",
          "name": "stdout",
          "text": [
            "\n",
            "Test set: Average loss: 0.0270, Accuracy: 9921/10000 (99.21%)\n",
            "\n",
            "EPOCH: 7\n"
          ]
        },
        {
          "output_type": "stream",
          "name": "stderr",
          "text": [
            "Loss=0.00783977285027504 Batch_id=1874 Accuracy=98.88: 100%|██████████| 1875/1875 [00:24<00:00, 75.36it/s]\n"
          ]
        },
        {
          "output_type": "stream",
          "name": "stdout",
          "text": [
            "\n",
            "Test set: Average loss: 0.0198, Accuracy: 9935/10000 (99.35%)\n",
            "\n",
            "EPOCH: 8\n"
          ]
        },
        {
          "output_type": "stream",
          "name": "stderr",
          "text": [
            "Loss=0.0004677710239775479 Batch_id=1874 Accuracy=98.98: 100%|██████████| 1875/1875 [00:24<00:00, 76.17it/s]\n"
          ]
        },
        {
          "output_type": "stream",
          "name": "stdout",
          "text": [
            "\n",
            "Test set: Average loss: 0.0223, Accuracy: 9929/10000 (99.29%)\n",
            "\n",
            "EPOCH: 9\n"
          ]
        },
        {
          "output_type": "stream",
          "name": "stderr",
          "text": [
            "Loss=0.08025066554546356 Batch_id=1874 Accuracy=98.95: 100%|██████████| 1875/1875 [00:25<00:00, 73.94it/s]\n"
          ]
        },
        {
          "output_type": "stream",
          "name": "stdout",
          "text": [
            "\n",
            "Test set: Average loss: 0.0209, Accuracy: 9931/10000 (99.31%)\n",
            "\n",
            "EPOCH: 10\n"
          ]
        },
        {
          "output_type": "stream",
          "name": "stderr",
          "text": [
            "Loss=0.003736080601811409 Batch_id=1874 Accuracy=99.06: 100%|██████████| 1875/1875 [00:24<00:00, 75.15it/s]\n"
          ]
        },
        {
          "output_type": "stream",
          "name": "stdout",
          "text": [
            "\n",
            "Test set: Average loss: 0.0244, Accuracy: 9929/10000 (99.29%)\n",
            "\n",
            "EPOCH: 11\n"
          ]
        },
        {
          "output_type": "stream",
          "name": "stderr",
          "text": [
            "Loss=0.0009105286444537342 Batch_id=1874 Accuracy=99.09: 100%|██████████| 1875/1875 [00:25<00:00, 73.37it/s]\n"
          ]
        },
        {
          "output_type": "stream",
          "name": "stdout",
          "text": [
            "\n",
            "Test set: Average loss: 0.0224, Accuracy: 9938/10000 (99.38%)\n",
            "\n",
            "EPOCH: 12\n"
          ]
        },
        {
          "output_type": "stream",
          "name": "stderr",
          "text": [
            "Loss=0.1751810759305954 Batch_id=1874 Accuracy=99.09: 100%|██████████| 1875/1875 [00:25<00:00, 72.97it/s]\n"
          ]
        },
        {
          "output_type": "stream",
          "name": "stdout",
          "text": [
            "\n",
            "Test set: Average loss: 0.0223, Accuracy: 9927/10000 (99.27%)\n",
            "\n",
            "EPOCH: 13\n"
          ]
        },
        {
          "output_type": "stream",
          "name": "stderr",
          "text": [
            "Loss=0.08499334007501602 Batch_id=1874 Accuracy=99.04: 100%|██████████| 1875/1875 [00:25<00:00, 72.75it/s]\n"
          ]
        },
        {
          "output_type": "stream",
          "name": "stdout",
          "text": [
            "\n",
            "Test set: Average loss: 0.0226, Accuracy: 9925/10000 (99.25%)\n",
            "\n",
            "EPOCH: 14\n"
          ]
        },
        {
          "output_type": "stream",
          "name": "stderr",
          "text": [
            "Loss=0.0008189385407604277 Batch_id=1874 Accuracy=99.11: 100%|██████████| 1875/1875 [00:25<00:00, 74.37it/s]\n"
          ]
        },
        {
          "output_type": "stream",
          "name": "stdout",
          "text": [
            "\n",
            "Test set: Average loss: 0.0199, Accuracy: 9940/10000 (99.40%)\n",
            "\n"
          ]
        }
      ]
    },
    {
      "cell_type": "markdown",
      "source": [
        "## Model - 3 Training and Logs"
      ],
      "metadata": {
        "id": "ZMLgyW6HHrIH"
      }
    },
    {
      "cell_type": "code",
      "source": [
        "def data_loader_preprocessing():\n",
        "# Train Phase transformations\n",
        "    train_transforms = transforms.Compose([\n",
        "                                      #  transforms.Resize((28, 28)),\n",
        "                                      #  transforms.ColorJitter(brightness=0.10, contrast=0.1, saturation=0.10, hue=0.1),\n",
        "                                       transforms.RandomRotation((-10.0, 10.0), fill=(1,)),\n",
        "                                       transforms.ToTensor(),\n",
        "                                       transforms.Normalize((0.1307,), (0.3081,)) # The mean and std have to be sequences (e.g., tuples), therefore you should add a comma after the values.\n",
        "                                       # Note the difference between (0.1307) and (0.1307,)\n",
        "                                       ])\n",
        "\n",
        "    # Test Phase transformations\n",
        "    test_transforms = transforms.Compose([\n",
        "                                        transforms.ToTensor(),\n",
        "                                        transforms.Normalize((0.1307,), (0.3081,))\n",
        "                                        ])\n",
        "\n",
        "\n",
        "    train = datasets.MNIST('./data', train=True, download=True, transform=train_transforms)\n",
        "    test = datasets.MNIST('./data', train=False, download=True, transform=test_transforms)\n",
        "\n",
        "\n",
        "\n",
        "    # dataloader arguments - something you'll fetch these from cmdprmt\n",
        "    dataloader_args = dict(shuffle=True, batch_size=32, num_workers=4, pin_memory=True) if cuda else dict(shuffle=True, batch_size=64)\n",
        "\n",
        "    # train dataloader\n",
        "    train_loader = torch.utils.data.DataLoader(train, **dataloader_args)\n",
        "\n",
        "    # test dataloader\n",
        "    test_loader = torch.utils.data.DataLoader(test, **dataloader_args)\n",
        "\n",
        "    return train_loader, test_loader\n",
        "\n",
        "\n",
        "train_loader, test_loader = data_loader_preprocessing()\n",
        "use_cuda = torch.cuda.is_available()\n",
        "device = torch.device(\"cuda\" if use_cuda else \"cpu\")"
      ],
      "metadata": {
        "id": "9jaJ6vXQHgdI"
      },
      "execution_count": 5,
      "outputs": []
    },
    {
      "cell_type": "code",
      "source": [
        "model =  model_3.Net().to(device)\n",
        "optimizer = optim.SGD(model.parameters(), lr=0.01, momentum=0.9)\n",
        "scheduler = StepLR(optimizer, step_size=8, gamma=0.1)\n",
        "print(summary(model, input_size=(1, 28, 28)))\n",
        "print('Training the model...')\n",
        "print('-'*20)\n",
        "EPOCHS = 15\n",
        "for epoch in range(EPOCHS):\n",
        "    print(\"EPOCH:\", epoch)\n",
        "    train(model, device, train_loader, optimizer, epoch)\n",
        "    scheduler.step()\n",
        "    test(model, device, test_loader)"
      ],
      "metadata": {
        "colab": {
          "base_uri": "https://localhost:8080/"
        },
        "id": "6WN6zVrJH_-K",
        "outputId": "f25a56d1-e390-46a6-d5a5-eba9c5e15026"
      },
      "execution_count": 6,
      "outputs": [
        {
          "output_type": "stream",
          "name": "stdout",
          "text": [
            "----------------------------------------------------------------\n",
            "        Layer (type)               Output Shape         Param #\n",
            "================================================================\n",
            "            Conv2d-1            [-1, 8, 28, 28]              72\n",
            "              ReLU-2            [-1, 8, 28, 28]               0\n",
            "       BatchNorm2d-3            [-1, 8, 28, 28]              16\n",
            "           Dropout-4            [-1, 8, 28, 28]               0\n",
            "            Conv2d-5           [-1, 12, 28, 28]             864\n",
            "              ReLU-6           [-1, 12, 28, 28]               0\n",
            "       BatchNorm2d-7           [-1, 12, 28, 28]              24\n",
            "           Dropout-8           [-1, 12, 28, 28]               0\n",
            "         MaxPool2d-9           [-1, 12, 14, 14]               0\n",
            "           Conv2d-10           [-1, 16, 14, 14]           1,728\n",
            "             ReLU-11           [-1, 16, 14, 14]               0\n",
            "      BatchNorm2d-12           [-1, 16, 14, 14]              32\n",
            "          Dropout-13           [-1, 16, 14, 14]               0\n",
            "           Conv2d-14           [-1, 16, 12, 12]           2,304\n",
            "             ReLU-15           [-1, 16, 12, 12]               0\n",
            "      BatchNorm2d-16           [-1, 16, 12, 12]              32\n",
            "          Dropout-17           [-1, 16, 12, 12]               0\n",
            "        MaxPool2d-18             [-1, 16, 6, 6]               0\n",
            "           Conv2d-19             [-1, 11, 4, 4]           1,584\n",
            "             ReLU-20             [-1, 11, 4, 4]               0\n",
            "      BatchNorm2d-21             [-1, 11, 4, 4]              22\n",
            "          Dropout-22             [-1, 11, 4, 4]               0\n",
            "           Conv2d-23             [-1, 10, 2, 2]             990\n",
            "             ReLU-24             [-1, 10, 2, 2]               0\n",
            "      BatchNorm2d-25             [-1, 10, 2, 2]              20\n",
            "          Dropout-26             [-1, 10, 2, 2]               0\n",
            "AdaptiveAvgPool2d-27             [-1, 10, 1, 1]               0\n",
            "           Linear-28                   [-1, 10]             100\n",
            "================================================================\n",
            "Total params: 7,788\n",
            "Trainable params: 7,788\n",
            "Non-trainable params: 0\n",
            "----------------------------------------------------------------\n",
            "Input size (MB): 0.00\n",
            "Forward/backward pass size (MB): 0.67\n",
            "Params size (MB): 0.03\n",
            "Estimated Total Size (MB): 0.71\n",
            "----------------------------------------------------------------\n",
            "None\n",
            "Training the model...\n",
            "--------------------\n",
            "EPOCH: 0\n"
          ]
        },
        {
          "output_type": "stream",
          "name": "stderr",
          "text": [
            "Loss=0.05117357522249222 Batch_id=1874 Accuracy=93.83: 100%|██████████| 1875/1875 [00:28<00:00, 66.49it/s]\n"
          ]
        },
        {
          "output_type": "stream",
          "name": "stdout",
          "text": [
            "\n",
            "Test set: Average loss: 0.0461, Accuracy: 9867/10000 (98.67%)\n",
            "\n",
            "EPOCH: 1\n"
          ]
        },
        {
          "output_type": "stream",
          "name": "stderr",
          "text": [
            "Loss=0.023698857054114342 Batch_id=1874 Accuracy=97.29: 100%|██████████| 1875/1875 [00:27<00:00, 67.80it/s]\n"
          ]
        },
        {
          "output_type": "stream",
          "name": "stdout",
          "text": [
            "\n",
            "Test set: Average loss: 0.0338, Accuracy: 9890/10000 (98.90%)\n",
            "\n",
            "EPOCH: 2\n"
          ]
        },
        {
          "output_type": "stream",
          "name": "stderr",
          "text": [
            "Loss=0.07147856801748276 Batch_id=1874 Accuracy=97.65: 100%|██████████| 1875/1875 [00:27<00:00, 67.04it/s]\n"
          ]
        },
        {
          "output_type": "stream",
          "name": "stdout",
          "text": [
            "\n",
            "Test set: Average loss: 0.0326, Accuracy: 9886/10000 (98.86%)\n",
            "\n",
            "EPOCH: 3\n"
          ]
        },
        {
          "output_type": "stream",
          "name": "stderr",
          "text": [
            "Loss=0.11392983049154282 Batch_id=1874 Accuracy=97.80: 100%|██████████| 1875/1875 [00:29<00:00, 63.58it/s]\n"
          ]
        },
        {
          "output_type": "stream",
          "name": "stdout",
          "text": [
            "\n",
            "Test set: Average loss: 0.0252, Accuracy: 9916/10000 (99.16%)\n",
            "\n",
            "EPOCH: 4\n"
          ]
        },
        {
          "output_type": "stream",
          "name": "stderr",
          "text": [
            "Loss=0.0076786065474152565 Batch_id=1874 Accuracy=98.03: 100%|██████████| 1875/1875 [00:27<00:00, 67.85it/s]\n"
          ]
        },
        {
          "output_type": "stream",
          "name": "stdout",
          "text": [
            "\n",
            "Test set: Average loss: 0.0242, Accuracy: 9921/10000 (99.21%)\n",
            "\n",
            "EPOCH: 5\n"
          ]
        },
        {
          "output_type": "stream",
          "name": "stderr",
          "text": [
            "Loss=0.040524642914533615 Batch_id=1874 Accuracy=98.15: 100%|██████████| 1875/1875 [00:27<00:00, 67.32it/s]\n"
          ]
        },
        {
          "output_type": "stream",
          "name": "stdout",
          "text": [
            "\n",
            "Test set: Average loss: 0.0247, Accuracy: 9922/10000 (99.22%)\n",
            "\n",
            "EPOCH: 6\n"
          ]
        },
        {
          "output_type": "stream",
          "name": "stderr",
          "text": [
            "Loss=0.04864704608917236 Batch_id=1874 Accuracy=98.26: 100%|██████████| 1875/1875 [00:27<00:00, 68.17it/s]\n"
          ]
        },
        {
          "output_type": "stream",
          "name": "stdout",
          "text": [
            "\n",
            "Test set: Average loss: 0.0258, Accuracy: 9918/10000 (99.18%)\n",
            "\n",
            "EPOCH: 7\n"
          ]
        },
        {
          "output_type": "stream",
          "name": "stderr",
          "text": [
            "Loss=0.050457913428545 Batch_id=1874 Accuracy=98.28: 100%|██████████| 1875/1875 [00:27<00:00, 67.93it/s]\n"
          ]
        },
        {
          "output_type": "stream",
          "name": "stdout",
          "text": [
            "\n",
            "Test set: Average loss: 0.0221, Accuracy: 9924/10000 (99.24%)\n",
            "\n",
            "EPOCH: 8\n"
          ]
        },
        {
          "output_type": "stream",
          "name": "stderr",
          "text": [
            "Loss=0.05666813999414444 Batch_id=1874 Accuracy=98.55: 100%|██████████| 1875/1875 [00:29<00:00, 64.64it/s]\n"
          ]
        },
        {
          "output_type": "stream",
          "name": "stdout",
          "text": [
            "\n",
            "Test set: Average loss: 0.0209, Accuracy: 9934/10000 (99.34%)\n",
            "\n",
            "EPOCH: 9\n"
          ]
        },
        {
          "output_type": "stream",
          "name": "stderr",
          "text": [
            "Loss=0.023745547980070114 Batch_id=1874 Accuracy=98.67: 100%|██████████| 1875/1875 [00:27<00:00, 68.27it/s]\n"
          ]
        },
        {
          "output_type": "stream",
          "name": "stdout",
          "text": [
            "\n",
            "Test set: Average loss: 0.0199, Accuracy: 9937/10000 (99.37%)\n",
            "\n",
            "EPOCH: 10\n"
          ]
        },
        {
          "output_type": "stream",
          "name": "stderr",
          "text": [
            "Loss=0.04520298168063164 Batch_id=1874 Accuracy=98.66: 100%|██████████| 1875/1875 [00:27<00:00, 67.85it/s]\n"
          ]
        },
        {
          "output_type": "stream",
          "name": "stdout",
          "text": [
            "\n",
            "Test set: Average loss: 0.0186, Accuracy: 9942/10000 (99.42%)\n",
            "\n",
            "EPOCH: 11\n"
          ]
        },
        {
          "output_type": "stream",
          "name": "stderr",
          "text": [
            "Loss=0.002779433038085699 Batch_id=1874 Accuracy=98.67: 100%|██████████| 1875/1875 [00:27<00:00, 67.90it/s]\n"
          ]
        },
        {
          "output_type": "stream",
          "name": "stdout",
          "text": [
            "\n",
            "Test set: Average loss: 0.0201, Accuracy: 9941/10000 (99.41%)\n",
            "\n",
            "EPOCH: 12\n"
          ]
        },
        {
          "output_type": "stream",
          "name": "stderr",
          "text": [
            "Loss=0.005277360323816538 Batch_id=1874 Accuracy=98.70: 100%|██████████| 1875/1875 [00:27<00:00, 68.22it/s]\n"
          ]
        },
        {
          "output_type": "stream",
          "name": "stdout",
          "text": [
            "\n",
            "Test set: Average loss: 0.0193, Accuracy: 9942/10000 (99.42%)\n",
            "\n",
            "EPOCH: 13\n"
          ]
        },
        {
          "output_type": "stream",
          "name": "stderr",
          "text": [
            "Loss=0.005125211086124182 Batch_id=1874 Accuracy=98.71: 100%|██████████| 1875/1875 [00:27<00:00, 67.64it/s]\n"
          ]
        },
        {
          "output_type": "stream",
          "name": "stdout",
          "text": [
            "\n",
            "Test set: Average loss: 0.0187, Accuracy: 9945/10000 (99.45%)\n",
            "\n",
            "EPOCH: 14\n"
          ]
        },
        {
          "output_type": "stream",
          "name": "stderr",
          "text": [
            "Loss=0.2332158088684082 Batch_id=1874 Accuracy=98.68: 100%|██████████| 1875/1875 [00:27<00:00, 68.38it/s]\n"
          ]
        },
        {
          "output_type": "stream",
          "name": "stdout",
          "text": [
            "\n",
            "Test set: Average loss: 0.0182, Accuracy: 9942/10000 (99.42%)\n",
            "\n"
          ]
        }
      ]
    },
    {
      "cell_type": "code",
      "source": [],
      "metadata": {
        "id": "nNa9duyVIi3y"
      },
      "execution_count": null,
      "outputs": []
    }
  ],
  "metadata": {
    "accelerator": "GPU",
    "colab": {
      "gpuType": "T4",
      "provenance": []
    },
    "gpuClass": "standard",
    "kernelspec": {
      "display_name": "Python 3",
      "name": "python3"
    },
    "language_info": {
      "name": "python"
    }
  },
  "nbformat": 4,
  "nbformat_minor": 0
}